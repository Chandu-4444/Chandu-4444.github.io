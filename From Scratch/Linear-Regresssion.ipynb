{
 "cells": [
  {
   "cell_type": "markdown",
   "metadata": {},
   "source": [
    "### What we'll do?\n",
    "This blog is about implementing the Linear Regression algorithm from scratch. You might ask, _\"Why implementing it from scratch when there are fantastic libraries that does the same thing in about 5 lines of code?\"_. That is a valid question! You can look up to **scikit-learn** documentation an code it on your own, but it will be a black box for you. You are never sure why that works, and how that works. Implementing a similiar algorithm on your own will definitely give you a clearer picture.\n",
    "\n",
    "Just a gentle reminder, we'll never us our implementations in real life (Actually you can, but I won't recommend though!). These implementations are just for our understanding."
   ]
  },
  {
   "cell_type": "markdown",
   "metadata": {},
   "source": [
    "### Preparing and making our dummy data\n",
    "I'm using scikit-learn's `make_regression` method to generate our data. "
   ]
  },
  {
   "cell_type": "code",
   "execution_count": 9,
   "metadata": {},
   "outputs": [
    {
     "name": "stdout",
     "output_type": "stream",
     "text": [
      "Shape of X, y =  (5000, 5) (5000,)\n"
     ]
    }
   ],
   "source": [
    "import pandas as pd\n",
    "import numpy as np\n",
    "\n",
    "from sklearn.datasets import make_regression\n",
    "import matplotlib.pyplot as plt\n",
    "\n",
    "data = make_regression(n_samples=5000, n_features=5, n_informative=5, noise=5, random_state=42)\n",
    "# n_feature: Specify how many features we need (The dimension of a single data point).\n",
    "# n_formative: Specify how many features are useful for us.\n",
    "# noise: Amount of random noise we inject into the data. \n",
    "X = data[0]\n",
    "y = data[1]\n",
    "print(\"Shape of X, y = \",X.shape,y.shape)"
   ]
  },
  {
   "cell_type": "markdown",
   "metadata": {},
   "source": [
    "Since we have a 5D independent variable, we'll use [OLS for matrice](https://chandu-4444.github.io/2021/12/07/linear-regression.html#ols-for-matrices)\n",
    "I'll create a class for the implementation. This is how models were implemented in **scikit-learn**. "
   ]
  },
  {
   "cell_type": "code",
   "execution_count": 12,
   "metadata": {},
   "outputs": [],
   "source": [
    "class LinearRegression:\n",
    "\n",
    "    def __init__(self):\n",
    "        self.X = None\n",
    "        self.y = None\n",
    "        self._W = None\n",
    "        self.y_hat = None\n",
    "        \n",
    "\n",
    "    def fit(self, X, y):\n",
    "        ones = np.ones(shape=(X.shape[0], 1), dtype=float) # Generates a vector of shape (5000, 1)\n",
    "        self.X = np.concatenate((X, ones), axis=1) # Concatenate the ones column to the end of matrix X\n",
    "        self._W = np.empty(shape=[self.X.shape[1], 1], dtype=float) # Generate a random W array\n",
    "        self._W =  np.dot(np.dot(np.linalg.inv(np.matmul(self.X.T, self.X)), self.X.T), y) # W = ((X'X)^-1)X'.y\n",
    "        self.y_hat = np.dot(self.X, self._W)\n",
    "\n",
    "        return self.y_hat, self._W\n",
    "\n",
    "    def predict(self, x):\n",
    "        # Predicting the given query after concatenating a one to it.\n",
    "        # Predicting by y = mx + c, here m = W[:-1], c = W[-1] (Last column is intercept term)\n",
    "        return  np.dot(x, self._W[:-1]) + self._W[-1] \n",
    "    \n",
    "    def SSE(self, y, y_hat):\n",
    "        return np.sum((y - y_hat)**2)"
   ]
  },
  {
   "cell_type": "code",
   "execution_count": 15,
   "metadata": {
    "collapsed": false,
    "pycharm": {
     "name": "#%%\n"
    }
   },
   "outputs": [],
   "source": []
  },
  {
   "cell_type": "code",
   "execution_count": 16,
   "metadata": {
    "collapsed": false,
    "pycharm": {
     "name": "#%%\n"
    }
   },
   "outputs": [],
   "source": []
  },
  {
   "cell_type": "code",
   "execution_count": 4,
   "metadata": {},
   "outputs": [],
   "source": [
    "model = LinearRegression()\n",
    "y_hat, W = model.fit(X, y)"
   ]
  },
  {
   "cell_type": "code",
   "execution_count": 8,
   "metadata": {},
   "outputs": [
    {
     "data": {
      "text/plain": [
       "122552.17271809423"
      ]
     },
     "execution_count": 8,
     "metadata": {},
     "output_type": "execute_result"
    }
   ],
   "source": [
    "model.SSE(y, y_hat)"
   ]
  },
  {
   "cell_type": "markdown",
   "metadata": {},
   "source": [
    "Now, we'll plot _y_hat_ against _y_. That'll be a straight line passing though origin with slope $45 \\deg$. This indicates that our _y_hat_ and _y_ follows the line equation x = y. This shows us that our predictions are almost close to the actual values."
   ]
  },
  {
   "cell_type": "code",
   "execution_count": 8,
   "metadata": {},
   "outputs": [
    {
     "data": {
      "image/png": "[encoded data removed]",
      "text/plain": [
       "<Figure size 432x288 with 1 Axes>"
      ]
     },
     "metadata": {
      "needs_background": "light"
     },
     "output_type": "display_data"
    }
   ],
   "source": [
    "plt.scatter(y_hat, y)\n",
    "plt.xlabel(\"y_hat\")\n",
    "plt.ylabel(\"y\")\n",
    "plt.title(\"y_hat VS y\")\n",
    "plt.savefig(\"output.svg\")"
   ]
  }
 ],
 "metadata": {
  "interpreter": {
   "hash": "5e09afe7eed9bbfc990e3d58c945ea17c67f9556c7129bb06b9149cb6e689e24"
  },
  "kernelspec": {
   "display_name": "Python 3 (ipykernel)",
   "language": "python",
   "name": "python3"
  },
  "language_info": {
   "codemirror_mode": {
    "name": "ipython",
    "version": 3
   },
   "file_extension": ".py",
   "mimetype": "text/x-python",
   "name": "python",
   "nbconvert_exporter": "python",
   "pygments_lexer": "ipython3",
   "version": "3.8.8"
  }
 },
 "nbformat": 4,
 "nbformat_minor": 2
}
